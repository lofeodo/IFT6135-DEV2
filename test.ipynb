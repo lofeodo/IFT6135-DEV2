{
 "cells": [
  {
   "cell_type": "code",
   "execution_count": 2,
   "metadata": {},
   "outputs": [
    {
     "name": "stderr",
     "output_type": "stream",
     "text": [
      "c:\\Users\\Dell.DESKTOP-4AU2O53\\anaconda3\\envs\\devoirs6390\\lib\\site-packages\\tqdm\\auto.py:21: TqdmWarning: IProgress not found. Please update jupyter and ipywidgets. See https://ipywidgets.readthedocs.io/en/stable/user_install.html\n",
      "  from .autonotebook import tqdm as notebook_tqdm\n"
     ]
    },
    {
     "name": "stdout",
     "output_type": "stream",
     "text": [
      "tensor([[[0., 0.],\n",
      "         [0., 0.],\n",
      "         [1., 1.],\n",
      "         [1., 1.]],\n",
      "\n",
      "        [[0., 0.],\n",
      "         [0., 0.],\n",
      "         [1., 1.],\n",
      "         [1., 1.]]])\n",
      "tensor([[[0., 0.],\n",
      "         [0., 0.]],\n",
      "\n",
      "        [[0., 0.],\n",
      "         [0., 0.]]])\n",
      "tensor([[[1., 1.],\n",
      "         [1., 1.]],\n",
      "\n",
      "        [[1., 1.],\n",
      "         [1., 1.]]])\n"
     ]
    }
   ],
   "source": [
    "import torch\n",
    "a = torch.zeros(2,2,2)\n",
    "b = torch.ones(2,2,2)\n",
    "c = torch.concat([a,b], dim=1)\n",
    "print(c)\n",
    "print(a)\n",
    "print(b)"
   ]
  },
  {
   "cell_type": "code",
   "execution_count": 30,
   "metadata": {},
   "outputs": [
    {
     "name": "stdout",
     "output_type": "stream",
     "text": [
      "tensor([[[2.5000],\n",
      "         [2.5000],\n",
      "         [2.5000]],\n",
      "\n",
      "        [[4.5000],\n",
      "         [4.5000],\n",
      "         [4.5000]]], dtype=torch.float64)\n",
      "tensor([[[-1.1619, -0.3873,  0.3873,  1.1619],\n",
      "         [-1.1619, -0.3873,  0.3873,  1.1619],\n",
      "         [-1.1619, -0.3873,  0.3873,  1.1619]],\n",
      "\n",
      "        [[-1.1619, -0.3873,  0.3873,  1.1619],\n",
      "         [-1.1619, -0.3873,  0.3873,  1.1619],\n",
      "         [-1.1619, -0.3873,  0.3873,  1.1619]]], dtype=torch.float64)\n"
     ]
    }
   ],
   "source": [
    "a = torch.tensor([[[1, 2, 3, 4], [1, 2, 3, 4], [1, 2, 3, 4]],\n",
    "                   [[3, 4, 5, 6], [3, 4, 5, 6], [3, 4, 5, 6]]], dtype=float)\n",
    "b = torch.tensor([1, 2, 1, 2])\n",
    "\n",
    "mean = torch.mean(a, dim=-1, keepdim=True)\n",
    "var = torch.var(a, dim=-1, keepdim=True)\n",
    "print(mean)\n",
    "x_norm = (a - mean) / torch.sqrt(var + 0.0000000001)\n",
    "print(x_norm)"
   ]
  },
  {
   "cell_type": "code",
   "execution_count": 34,
   "metadata": {},
   "outputs": [
    {
     "name": "stdout",
     "output_type": "stream",
     "text": [
      "torch.Size([2, 3, 4])\n",
      "torch.Size([1, 3, 8])\n",
      "tensor([[[1., 2., 3., 4., 1., 2., 3., 4.],\n",
      "         [1., 2., 3., 4., 3., 4., 5., 6.],\n",
      "         [3., 4., 5., 6., 3., 4., 5., 6.]]], dtype=torch.float64)\n"
     ]
    }
   ],
   "source": [
    "a = torch.tensor([[[1, 2, 3, 4], [1, 2, 3, 4], [1, 2, 3, 4]],\n",
    "                   [[3, 4, 5, 6], [3, 4, 5, 6], [3, 4, 5, 6]]], dtype=float)\n",
    "print(a.shape)\n",
    "\n",
    "b = torch.reshape(a, (1, 3, 8))\n",
    "\n",
    "print(b.shape)\n",
    "print(b)"
   ]
  },
  {
   "cell_type": "code",
   "execution_count": 51,
   "metadata": {},
   "outputs": [
    {
     "name": "stdout",
     "output_type": "stream",
     "text": [
      "torch.Size([2, 3, 2, 4])\n",
      "torch.Size([4, 2, 3, 2])\n",
      "==== C ====\n",
      "tensor([[[[1., 2., 3., 4.],\n",
      "          [1., 2., 3., 4.]],\n",
      "\n",
      "         [[1., 2., 3., 4.],\n",
      "          [1., 2., 3., 4.]],\n",
      "\n",
      "         [[1., 2., 3., 4.],\n",
      "          [1., 2., 3., 4.]]],\n",
      "\n",
      "\n",
      "        [[[5., 6., 7., 8.],\n",
      "          [5., 6., 7., 8.]],\n",
      "\n",
      "         [[5., 6., 7., 8.],\n",
      "          [5., 6., 7., 8.]],\n",
      "\n",
      "         [[5., 6., 7., 8.],\n",
      "          [5., 6., 7., 8.]]]], dtype=torch.float64)\n",
      "==== C.T ====\n",
      "tensor([[[[1., 5.],\n",
      "          [1., 5.],\n",
      "          [1., 5.]],\n",
      "\n",
      "         [[1., 5.],\n",
      "          [1., 5.],\n",
      "          [1., 5.]]],\n",
      "\n",
      "\n",
      "        [[[2., 6.],\n",
      "          [2., 6.],\n",
      "          [2., 6.]],\n",
      "\n",
      "         [[2., 6.],\n",
      "          [2., 6.],\n",
      "          [2., 6.]]],\n",
      "\n",
      "\n",
      "        [[[3., 7.],\n",
      "          [3., 7.],\n",
      "          [3., 7.]],\n",
      "\n",
      "         [[3., 7.],\n",
      "          [3., 7.],\n",
      "          [3., 7.]]],\n",
      "\n",
      "\n",
      "        [[[4., 8.],\n",
      "          [4., 8.],\n",
      "          [4., 8.]],\n",
      "\n",
      "         [[4., 8.],\n",
      "          [4., 8.],\n",
      "          [4., 8.]]]], dtype=torch.float64)\n"
     ]
    }
   ],
   "source": [
    "a = torch.tensor([[[[1,2,3,4], [1,2,3,4], [1,2,3,4]],\n",
    "                   [[1,2,3,4], [1,2,3,4], [1,2,3,4]]],\n",
    "                   [[[5,6,7,8], [5,6,7,8], [5,6,7,8]],\n",
    "                    [[5,6,7,8], [5,6,7,8], [5,6,7,8]]]], dtype=float)\n",
    "# print(a.shape)\n",
    "# b = torch.reshape(a, (2, 3, 8))\n",
    "# print(a)\n",
    "# print()\n",
    "\n",
    "c = a.permute(0, 2, 1, 3)\n",
    "print(c.shape)\n",
    "print(c.T.shape)\n",
    "print(\"==== C ====\")\n",
    "print(c)\n",
    "print(\"==== C.T ====\")\n",
    "print(c.T)\n",
    "\n",
    "# d = torch.reshape(c, (2,3,8))\n",
    "# print(d)"
   ]
  },
  {
   "cell_type": "code",
   "execution_count": 68,
   "metadata": {},
   "outputs": [
    {
     "name": "stdout",
     "output_type": "stream",
     "text": [
      "tensor([[[1, 2],\n",
      "         [3, 4]],\n",
      "\n",
      "        [[5, 6],\n",
      "         [7, 8]]])\n",
      "tensor([[[1, 0],\n",
      "         [3, 4]],\n",
      "\n",
      "        [[5, 0],\n",
      "         [7, 8]]])\n"
     ]
    }
   ],
   "source": [
    "b = torch.tensor([[1,2],[3,4]])\n",
    "# print(b)\n",
    "# print(b.T)\n",
    "a = torch.tensor([[[1,2],[3,4]],[[5,6],[7,8]]])\n",
    "# print(a)\n",
    "# print(a.T)\n",
    "\n"
   ]
  },
  {
   "cell_type": "code",
   "execution_count": 78,
   "metadata": {},
   "outputs": [
    {
     "name": "stdout",
     "output_type": "stream",
     "text": [
      "torch.Size([2, 2, 3, 4])\n",
      "tensor([[[[1., 0., 0., 0.],\n",
      "          [1., 2., 0., 0.],\n",
      "          [1., 2., 3., 0.]],\n",
      "\n",
      "         [[1., 0., 0., 0.],\n",
      "          [1., 2., 0., 0.],\n",
      "          [1., 2., 3., 0.]]],\n",
      "\n",
      "\n",
      "        [[[5., 0., 0., 0.],\n",
      "          [5., 6., 0., 0.],\n",
      "          [5., 6., 7., 0.]],\n",
      "\n",
      "         [[5., 0., 0., 0.],\n",
      "          [5., 6., 0., 0.],\n",
      "          [5., 6., 7., 0.]]]], dtype=torch.float64)\n"
     ]
    }
   ],
   "source": [
    "a = torch.tensor([[[[1,2,3,4], [1,2,3,4], [1,2,3,4]],\n",
    "                   [[1,2,3,4], [1,2,3,4], [1,2,3,4]]],\n",
    "                   [[[5,6,7,8], [5,6,7,8], [5,6,7,8]],\n",
    "                    [[5,6,7,8], [5,6,7,8], [5,6,7,8]]]], dtype=float)\n",
    "\n",
    "print(a.shape)\n",
    "indices = [(i, j) for i in range(0, a.shape[2]) for j in range(i+1, a.shape[3])]\n",
    "row_indices = torch.tensor([i[0] for i in indices])\n",
    "col_indices = torch.tensor([i[1] for i in indices])\n",
    "a[:,:,row_indices, col_indices] = 0\n",
    "print(a)"
   ]
  },
  {
   "cell_type": "code",
   "execution_count": 26,
   "metadata": {},
   "outputs": [
    {
     "name": "stdout",
     "output_type": "stream",
     "text": [
      "tensor([[0, 1, 2, 3]])\n",
      "tensor([[0, 2]])\n",
      "tensor([[0.0000, 0.0000, 0.0000, 0.0000],\n",
      "        [0.8415, 0.8415, 0.0998, 0.0998],\n",
      "        [0.9093, 0.9093, 0.1987, 0.1987]])\n"
     ]
    }
   ],
   "source": [
    "n_positions = 3\n",
    "dimension = 4\n",
    "\n",
    "n_positions_tensor = torch.arange(n_positions).unsqueeze(1)\n",
    "dimension_tensor = torch.arange(dimension).unsqueeze(0)\n",
    "\n",
    "print(dimension_tensor)\n",
    "print(dimension_tensor[:,0::2])\n",
    "\n",
    "PE = torch.zeros(n_positions, dimension)\n",
    "PE[:,0::2] = torch.sin(n_positions_tensor.float() / (10000 ** ((dimension_tensor[:,0::2] // 2) / dimension)))\n",
    "PE[:,1::2] = torch.sin(n_positions_tensor.float() / (10000 ** ((dimension_tensor[:,1::2] // 2) / dimension)))\n",
    "\n",
    "print(PE)"
   ]
  },
  {
   "cell_type": "code",
   "execution_count": 31,
   "metadata": {},
   "outputs": [
    {
     "name": "stdout",
     "output_type": "stream",
     "text": [
      "tensor([[0],\n",
      "        [1],\n",
      "        [2]])\n",
      "tensor([[0.3513, 0.4096, 0.0848, 0.9334],\n",
      "        [0.3470, 0.9658, 0.2467, 0.3587],\n",
      "        [0.3843, 0.7899, 0.3914, 0.0885]])\n",
      "tensor([[0.3513, 0.4096, 0.0848, 0.9334],\n",
      "        [1.3470, 1.9658, 1.2467, 1.3587],\n",
      "        [2.3843, 2.7899, 2.3914, 2.0885]])\n"
     ]
    }
   ],
   "source": [
    "n_positions = 3\n",
    "dimension = 4\n",
    "\n",
    "n_positions_tensor = torch.arange(n_positions).unsqueeze(1)\n",
    "dimension_tensor = torch.rand((3,4))\n",
    "\n",
    "print(n_positions_tensor)\n",
    "print(dimension_tensor)\n",
    "print(dimension_tensor + n_positions_tensor)\n"
   ]
  },
  {
   "cell_type": "code",
   "execution_count": 4,
   "metadata": {},
   "outputs": [
    {
     "name": "stderr",
     "output_type": "stream",
     "text": [
      "c:\\Users\\Dell.DESKTOP-4AU2O53\\anaconda3\\envs\\devoirs6390\\lib\\site-packages\\tqdm\\auto.py:21: TqdmWarning: IProgress not found. Please update jupyter and ipywidgets. See https://ipywidgets.readthedocs.io/en/stable/user_install.html\n",
      "  from .autonotebook import tqdm as notebook_tqdm\n"
     ]
    },
    {
     "ename": "TypeError",
     "evalue": "expected Tensor as element 0 in argument 0, but got int",
     "output_type": "error",
     "traceback": [
      "\u001b[1;31m---------------------------------------------------------------------------\u001b[0m",
      "\u001b[1;31mTypeError\u001b[0m                                 Traceback (most recent call last)",
      "\u001b[1;32m~\\AppData\\Local\\Temp\\ipykernel_10544\\1698101987.py\u001b[0m in \u001b[0;36m<module>\u001b[1;34m\u001b[0m\n\u001b[0;32m      1\u001b[0m \u001b[1;32mimport\u001b[0m \u001b[0mtorch\u001b[0m\u001b[1;33m\u001b[0m\u001b[1;33m\u001b[0m\u001b[0m\n\u001b[0;32m      2\u001b[0m \u001b[0ml\u001b[0m \u001b[1;33m=\u001b[0m \u001b[1;33m[\u001b[0m\u001b[1;36m1\u001b[0m\u001b[1;33m,\u001b[0m\u001b[1;36m2\u001b[0m\u001b[1;33m,\u001b[0m\u001b[1;36m3\u001b[0m\u001b[1;33m,\u001b[0m\u001b[1;36m4\u001b[0m\u001b[1;33m]\u001b[0m\u001b[1;33m\u001b[0m\u001b[1;33m\u001b[0m\u001b[0m\n\u001b[1;32m----> 3\u001b[1;33m \u001b[0ml\u001b[0m \u001b[1;33m=\u001b[0m \u001b[0mtorch\u001b[0m\u001b[1;33m.\u001b[0m\u001b[0mstack\u001b[0m\u001b[1;33m(\u001b[0m\u001b[0ml\u001b[0m\u001b[1;33m)\u001b[0m\u001b[1;33m\u001b[0m\u001b[1;33m\u001b[0m\u001b[0m\n\u001b[0m\u001b[0;32m      4\u001b[0m \u001b[0mprint\u001b[0m\u001b[1;33m(\u001b[0m\u001b[0ml\u001b[0m\u001b[1;33m)\u001b[0m\u001b[1;33m\u001b[0m\u001b[1;33m\u001b[0m\u001b[0m\n",
      "\u001b[1;31mTypeError\u001b[0m: expected Tensor as element 0 in argument 0, but got int"
     ]
    }
   ],
   "source": [
    "import torch\n",
    "l = [torch.tensor(0.0), torch.tensor(1.1)]\n",
    "l = torch.stack(l)\n",
    "print(l)"
   ]
  }
 ],
 "metadata": {
  "kernelspec": {
   "display_name": "devoirs6390",
   "language": "python",
   "name": "python3"
  },
  "language_info": {
   "codemirror_mode": {
    "name": "ipython",
    "version": 3
   },
   "file_extension": ".py",
   "mimetype": "text/x-python",
   "name": "python",
   "nbconvert_exporter": "python",
   "pygments_lexer": "ipython3",
   "version": "3.7.16"
  }
 },
 "nbformat": 4,
 "nbformat_minor": 2
}
