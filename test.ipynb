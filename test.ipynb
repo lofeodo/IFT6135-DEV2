{
 "cells": [
  {
   "cell_type": "code",
   "execution_count": 14,
   "metadata": {},
   "outputs": [
    {
     "name": "stdout",
     "output_type": "stream",
     "text": [
      "tensor([[[0., 0.],\n",
      "         [0., 0.],\n",
      "         [1., 1.],\n",
      "         [1., 1.]],\n",
      "\n",
      "        [[0., 0.],\n",
      "         [0., 0.],\n",
      "         [1., 1.],\n",
      "         [1., 1.]]])\n",
      "tensor([[[0., 0.],\n",
      "         [0., 0.]],\n",
      "\n",
      "        [[0., 0.],\n",
      "         [0., 0.]]])\n",
      "tensor([[[1., 1.],\n",
      "         [1., 1.]],\n",
      "\n",
      "        [[1., 1.],\n",
      "         [1., 1.]]])\n"
     ]
    }
   ],
   "source": [
    "import torch\n",
    "a = torch.zeros(2,2,2)\n",
    "b = torch.ones(2,2,2)\n",
    "c = torch.concat([a,b], dim=1)\n",
    "print(c)\n",
    "print(a)\n",
    "print(b)"
   ]
  },
  {
   "cell_type": "code",
   "execution_count": 30,
   "metadata": {},
   "outputs": [
    {
     "name": "stdout",
     "output_type": "stream",
     "text": [
      "tensor([[[2.5000],\n",
      "         [2.5000],\n",
      "         [2.5000]],\n",
      "\n",
      "        [[4.5000],\n",
      "         [4.5000],\n",
      "         [4.5000]]], dtype=torch.float64)\n",
      "tensor([[[-1.1619, -0.3873,  0.3873,  1.1619],\n",
      "         [-1.1619, -0.3873,  0.3873,  1.1619],\n",
      "         [-1.1619, -0.3873,  0.3873,  1.1619]],\n",
      "\n",
      "        [[-1.1619, -0.3873,  0.3873,  1.1619],\n",
      "         [-1.1619, -0.3873,  0.3873,  1.1619],\n",
      "         [-1.1619, -0.3873,  0.3873,  1.1619]]], dtype=torch.float64)\n"
     ]
    }
   ],
   "source": [
    "a = torch.tensor([[[1, 2, 3, 4], [1, 2, 3, 4], [1, 2, 3, 4]],\n",
    "                   [[3, 4, 5, 6], [3, 4, 5, 6], [3, 4, 5, 6]]], dtype=float)\n",
    "b = torch.tensor([1, 2, 1, 2])\n",
    "\n",
    "mean = torch.mean(a, dim=-1, keepdim=True)\n",
    "var = torch.var(a, dim=-1, keepdim=True)\n",
    "print(mean)\n",
    "x_norm = (a - mean) / torch.sqrt(var + 0.0000000001)\n",
    "print(x_norm)"
   ]
  },
  {
   "cell_type": "code",
   "execution_count": 34,
   "metadata": {},
   "outputs": [
    {
     "name": "stdout",
     "output_type": "stream",
     "text": [
      "torch.Size([2, 3, 4])\n",
      "torch.Size([1, 3, 8])\n",
      "tensor([[[1., 2., 3., 4., 1., 2., 3., 4.],\n",
      "         [1., 2., 3., 4., 3., 4., 5., 6.],\n",
      "         [3., 4., 5., 6., 3., 4., 5., 6.]]], dtype=torch.float64)\n"
     ]
    }
   ],
   "source": [
    "a = torch.tensor([[[1, 2, 3, 4], [1, 2, 3, 4], [1, 2, 3, 4]],\n",
    "                   [[3, 4, 5, 6], [3, 4, 5, 6], [3, 4, 5, 6]]], dtype=float)\n",
    "print(a.shape)\n",
    "\n",
    "b = torch.reshape(a, (1, 3, 8))\n",
    "\n",
    "print(b.shape)\n",
    "print(b)"
   ]
  },
  {
   "cell_type": "code",
   "execution_count": 51,
   "metadata": {},
   "outputs": [
    {
     "name": "stdout",
     "output_type": "stream",
     "text": [
      "torch.Size([2, 3, 2, 4])\n",
      "torch.Size([4, 2, 3, 2])\n",
      "==== C ====\n",
      "tensor([[[[1., 2., 3., 4.],\n",
      "          [1., 2., 3., 4.]],\n",
      "\n",
      "         [[1., 2., 3., 4.],\n",
      "          [1., 2., 3., 4.]],\n",
      "\n",
      "         [[1., 2., 3., 4.],\n",
      "          [1., 2., 3., 4.]]],\n",
      "\n",
      "\n",
      "        [[[5., 6., 7., 8.],\n",
      "          [5., 6., 7., 8.]],\n",
      "\n",
      "         [[5., 6., 7., 8.],\n",
      "          [5., 6., 7., 8.]],\n",
      "\n",
      "         [[5., 6., 7., 8.],\n",
      "          [5., 6., 7., 8.]]]], dtype=torch.float64)\n",
      "==== C.T ====\n",
      "tensor([[[[1., 5.],\n",
      "          [1., 5.],\n",
      "          [1., 5.]],\n",
      "\n",
      "         [[1., 5.],\n",
      "          [1., 5.],\n",
      "          [1., 5.]]],\n",
      "\n",
      "\n",
      "        [[[2., 6.],\n",
      "          [2., 6.],\n",
      "          [2., 6.]],\n",
      "\n",
      "         [[2., 6.],\n",
      "          [2., 6.],\n",
      "          [2., 6.]]],\n",
      "\n",
      "\n",
      "        [[[3., 7.],\n",
      "          [3., 7.],\n",
      "          [3., 7.]],\n",
      "\n",
      "         [[3., 7.],\n",
      "          [3., 7.],\n",
      "          [3., 7.]]],\n",
      "\n",
      "\n",
      "        [[[4., 8.],\n",
      "          [4., 8.],\n",
      "          [4., 8.]],\n",
      "\n",
      "         [[4., 8.],\n",
      "          [4., 8.],\n",
      "          [4., 8.]]]], dtype=torch.float64)\n"
     ]
    }
   ],
   "source": [
    "a = torch.tensor([[[[1,2,3,4], [1,2,3,4], [1,2,3,4]],\n",
    "                   [[1,2,3,4], [1,2,3,4], [1,2,3,4]]],\n",
    "                   [[[5,6,7,8], [5,6,7,8], [5,6,7,8]],\n",
    "                    [[5,6,7,8], [5,6,7,8], [5,6,7,8]]]], dtype=float)\n",
    "# print(a.shape)\n",
    "# b = torch.reshape(a, (2, 3, 8))\n",
    "# print(a)\n",
    "# print()\n",
    "\n",
    "c = a.permute(0, 2, 1, 3)\n",
    "print(c.shape)\n",
    "print(c.T.shape)\n",
    "print(\"==== C ====\")\n",
    "print(c)\n",
    "print(\"==== C.T ====\")\n",
    "print(c.T)\n",
    "\n",
    "# d = torch.reshape(c, (2,3,8))\n",
    "# print(d)"
   ]
  },
  {
   "cell_type": "code",
   "execution_count": 58,
   "metadata": {},
   "outputs": [
    {
     "name": "stdout",
     "output_type": "stream",
     "text": [
      "tensor([[1, 2],\n",
      "        [3, 4]])\n",
      "tensor([[1, 3],\n",
      "        [2, 4]])\n",
      "tensor([[[1, 2],\n",
      "         [3, 4]],\n",
      "\n",
      "        [[5, 6],\n",
      "         [7, 8]]])\n",
      "tensor([[[1, 5],\n",
      "         [3, 7]],\n",
      "\n",
      "        [[2, 6],\n",
      "         [4, 8]]])\n"
     ]
    }
   ],
   "source": [
    "b = torch.tensor([[1,2],[3,4]])\n",
    "print(b)\n",
    "print(b.T)\n",
    "a = torch.tensor([[[1,2],[3,4]],[[5,6],[7,8]]])\n",
    "print(a)\n",
    "print(a.T)"
   ]
  }
 ],
 "metadata": {
  "kernelspec": {
   "display_name": "devoirs6390",
   "language": "python",
   "name": "python3"
  },
  "language_info": {
   "codemirror_mode": {
    "name": "ipython",
    "version": 3
   },
   "file_extension": ".py",
   "mimetype": "text/x-python",
   "name": "python",
   "nbconvert_exporter": "python",
   "pygments_lexer": "ipython3",
   "version": "3.7.16"
  }
 },
 "nbformat": 4,
 "nbformat_minor": 2
}
